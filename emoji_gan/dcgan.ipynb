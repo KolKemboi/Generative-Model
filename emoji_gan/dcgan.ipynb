{
  "cells": [
    {
      "cell_type": "markdown",
      "metadata": {
        "id": "view-in-github",
        "colab_type": "text"
      },
      "source": [
        "<a href=\"https://colab.research.google.com/github/KolKemboi/Generative-Model/blob/main/emoji_gan/dcgan.ipynb\" target=\"_parent\"><img src=\"https://colab.research.google.com/assets/colab-badge.svg\" alt=\"Open In Colab\"/></a>"
      ]
    },
    {
      "cell_type": "code",
      "execution_count": 1,
      "id": "6a8192af-2413-44f4-a22b-ccf62e2b81d6",
      "metadata": {
        "id": "6a8192af-2413-44f4-a22b-ccf62e2b81d6"
      },
      "outputs": [],
      "source": [
        "import tensorflow as tf\n",
        "import keras\n",
        "import matplotlib\n",
        "from keras.datasets import mnist\n",
        "\n",
        "from IPython import display"
      ]
    },
    {
      "cell_type": "code",
      "execution_count": 2,
      "id": "0dc9e64f-6af4-41bb-ae95-e020a73889c9",
      "metadata": {
        "scrolled": true,
        "colab": {
          "base_uri": "https://localhost:8080/"
        },
        "id": "0dc9e64f-6af4-41bb-ae95-e020a73889c9",
        "outputId": "7873de38-586b-4c53-ba34-1fe158e1d5ca"
      },
      "outputs": [
        {
          "output_type": "stream",
          "name": "stdout",
          "text": [
            "Downloading data from https://storage.googleapis.com/tensorflow/tf-keras-datasets/mnist.npz\n",
            "11490434/11490434 [==============================] - 0s 0us/step\n"
          ]
        }
      ],
      "source": [
        "(train_data, train_labels), (_, _) = mnist.load_data()"
      ]
    },
    {
      "cell_type": "code",
      "execution_count": 3,
      "id": "3e336f37-0e3e-469b-a14c-c57418b4e9a1",
      "metadata": {
        "id": "3e336f37-0e3e-469b-a14c-c57418b4e9a1"
      },
      "outputs": [],
      "source": [
        "train_data = train_data.reshape(train_data.shape[0], 28, 28, 1).astype(\"float32\")\n",
        "train_data = (train_data - 127.5) / 127.5"
      ]
    },
    {
      "cell_type": "code",
      "execution_count": 4,
      "id": "f0410e86-f161-45c7-8e4b-97cabd27f6e2",
      "metadata": {
        "id": "f0410e86-f161-45c7-8e4b-97cabd27f6e2"
      },
      "outputs": [],
      "source": [
        "BUFFER_SIZE = 60000\n",
        "BATCH_SIZE = 256"
      ]
    },
    {
      "cell_type": "code",
      "execution_count": 5,
      "id": "dca1b7cc-f992-4348-a3f0-1e4a451f8a06",
      "metadata": {
        "id": "dca1b7cc-f992-4348-a3f0-1e4a451f8a06"
      },
      "outputs": [],
      "source": [
        "train_dataset = tf.data.Dataset.from_tensor_slices(train_data).shuffle(BUFFER_SIZE).batch(BATCH_SIZE)"
      ]
    },
    {
      "cell_type": "markdown",
      "id": "179c0365-4199-4555-a1ac-56a18d0254b6",
      "metadata": {
        "id": "179c0365-4199-4555-a1ac-56a18d0254b6"
      },
      "source": [
        "## THE GENERATOR MODEL"
      ]
    },
    {
      "cell_type": "code",
      "execution_count": 6,
      "id": "f4ff8496-945a-4b54-876f-34f7c0b5792b",
      "metadata": {
        "id": "f4ff8496-945a-4b54-876f-34f7c0b5792b"
      },
      "outputs": [],
      "source": [
        "from keras import layers"
      ]
    },
    {
      "cell_type": "code",
      "execution_count": 7,
      "id": "04387e9c-826d-4fce-862c-c2a118b34a5f",
      "metadata": {
        "id": "04387e9c-826d-4fce-862c-c2a118b34a5f"
      },
      "outputs": [],
      "source": [
        "def generator():\n",
        "    model = tf.keras.Sequential()\n",
        "    model.add(layers.Dense(7 * 7 * 256, use_bias = False, input_shape = (100,)))\n",
        "    model.add(layers.BatchNormalization())\n",
        "    model.add(layers.LeakyReLU())\n",
        "\n",
        "    model.add(layers.Reshape((7, 7, 256)))\n",
        "    assert model.output_shape == (None, 7, 7, 256)\n",
        "\n",
        "    model.add(layers.Conv2DTranspose(128, (5, 5), strides = (1, 1), padding = \"same\", use_bias = False))\n",
        "    assert model.output_shape == (None, 7, 7, 128)\n",
        "    model.add(layers.BatchNormalization())\n",
        "    model.add(layers.LeakyReLU())\n",
        "\n",
        "    model.add(layers.Conv2DTranspose(64, (5, 5), strides = (2, 2), padding = \"same\", use_bias = False))\n",
        "    assert model.output_shape == (None, 14, 14, 64)\n",
        "    model.add(layers.BatchNormalization())\n",
        "    model.add(layers.LeakyReLU())\n",
        "\n",
        "    model.add(layers.Conv2DTranspose(1, (5, 5), strides = (2, 2), padding = \"same\", use_bias = False))\n",
        "    assert model.output_shape == (None, 28, 28, 1)\n",
        "\n",
        "    return model\n",
        "\n"
      ]
    },
    {
      "cell_type": "code",
      "execution_count": 8,
      "id": "c4d5083c-8933-4de5-9dc8-c18042238f51",
      "metadata": {
        "id": "c4d5083c-8933-4de5-9dc8-c18042238f51"
      },
      "outputs": [],
      "source": [
        "generator = generator()"
      ]
    },
    {
      "cell_type": "code",
      "execution_count": 9,
      "id": "71276133-3063-4d4e-926b-46c75493f196",
      "metadata": {
        "id": "71276133-3063-4d4e-926b-46c75493f196"
      },
      "outputs": [],
      "source": [
        "noise = tf.random.normal([1, 100])\n",
        "gen_img = generator(noise, training = False)"
      ]
    },
    {
      "cell_type": "code",
      "execution_count": 10,
      "id": "95e3a48a-d7ca-4493-bcf3-2f5a76751bb4",
      "metadata": {
        "id": "95e3a48a-d7ca-4493-bcf3-2f5a76751bb4"
      },
      "outputs": [],
      "source": [
        "import matplotlib.pyplot as plt"
      ]
    },
    {
      "cell_type": "code",
      "execution_count": 11,
      "id": "5d236876-439c-4433-98e4-0bc7739faf81",
      "metadata": {
        "colab": {
          "base_uri": "https://localhost:8080/",
          "height": 447
        },
        "id": "5d236876-439c-4433-98e4-0bc7739faf81",
        "outputId": "eeab052a-b009-4301-aaa7-509f16597381"
      },
      "outputs": [
        {
          "output_type": "execute_result",
          "data": {
            "text/plain": [
              "<matplotlib.image.AxesImage at 0x7a7612135960>"
            ]
          },
          "metadata": {},
          "execution_count": 11
        },
        {
          "output_type": "display_data",
          "data": {
            "text/plain": [
              "<Figure size 640x480 with 1 Axes>"
            ],
            "image/png": "[encoded data removed]"
          },
          "metadata": {}
        }
      ],
      "source": [
        "plt.imshow(gen_img[0, :, :, 0], cmap =\"gray\")"
      ]
    },
    {
      "cell_type": "code",
      "execution_count": 12,
      "id": "2634792f-b5d3-46c5-a64d-ec103e9fa2a7",
      "metadata": {
        "colab": {
          "base_uri": "https://localhost:8080/",
          "height": 447
        },
        "id": "2634792f-b5d3-46c5-a64d-ec103e9fa2a7",
        "outputId": "115bb857-7e06-420f-f319-10fabd0c5392"
      },
      "outputs": [
        {
          "output_type": "execute_result",
          "data": {
            "text/plain": [
              "<matplotlib.image.AxesImage at 0x7a761200ba90>"
            ]
          },
          "metadata": {},
          "execution_count": 12
        },
        {
          "output_type": "display_data",
          "data": {
            "text/plain": [
              "<Figure size 640x480 with 1 Axes>"
            ],
            "image/png": "[encoded data removed]"
          },
          "metadata": {}
        }
      ],
      "source": [
        "noise = tf.random.normal([1, 100])\n",
        "gen_img = generator(noise, training = False)\n",
        "plt.imshow(gen_img[0, :, :, 0], cmap =\"gray\")"
      ]
    },
    {
      "cell_type": "markdown",
      "id": "24555eec-8630-4ae1-84bd-552e895ecc76",
      "metadata": {
        "id": "24555eec-8630-4ae1-84bd-552e895ecc76"
      },
      "source": [
        "## THE DISCRIMATOR"
      ]
    },
    {
      "cell_type": "code",
      "execution_count": 13,
      "id": "bd2a39b2-a330-4666-867f-f75c6836d577",
      "metadata": {
        "id": "bd2a39b2-a330-4666-867f-f75c6836d577"
      },
      "outputs": [],
      "source": [
        "def discriminator():\n",
        "    model = tf.keras.Sequential()\n",
        "    model.add(layers.Conv2D(64, (5, 5), strides = (2, 2), padding = \"same\", input_shape = [28, 28, 1]))\n",
        "    model.add(layers.LeakyReLU())\n",
        "    model.add(layers.Dropout(0.3))\n",
        "\n",
        "    model.add(layers.Conv2D(128, (5, 5), strides = (2, 2), padding = \"same\"))\n",
        "    model.add(layers.LeakyReLU())\n",
        "    model.add(layers.Dropout(0.3))\n",
        "\n",
        "    model.add(layers.Flatten())\n",
        "    model.add(layers.Dense(1))\n",
        "\n",
        "    return model"
      ]
    },
    {
      "cell_type": "code",
      "execution_count": 14,
      "id": "9d253ce3-f10c-409b-92cf-6872204be860",
      "metadata": {
        "colab": {
          "base_uri": "https://localhost:8080/"
        },
        "id": "9d253ce3-f10c-409b-92cf-6872204be860",
        "outputId": "91acc915-c57b-4c00-f5d4-57dcc4146e75"
      },
      "outputs": [
        {
          "output_type": "stream",
          "name": "stdout",
          "text": [
            "tf.Tensor([[0.00024191]], shape=(1, 1), dtype=float32)\n"
          ]
        }
      ],
      "source": [
        "discriminator = discriminator()\n",
        "decision = discriminator(gen_img)\n",
        "print(decision)"
      ]
    },
    {
      "cell_type": "markdown",
      "id": "2e200ff5-8098-4ace-84d7-09d9b912fa65",
      "metadata": {
        "id": "2e200ff5-8098-4ace-84d7-09d9b912fa65"
      },
      "source": [
        "## LOSS FUNCTION"
      ]
    },
    {
      "cell_type": "code",
      "execution_count": 15,
      "id": "19ef0a75-5557-4794-9bb3-63d46641641d",
      "metadata": {
        "id": "19ef0a75-5557-4794-9bb3-63d46641641d"
      },
      "outputs": [],
      "source": [
        "cross_entropy = tf.keras.losses.BinaryCrossentropy(from_logits = True)"
      ]
    },
    {
      "cell_type": "code",
      "execution_count": 16,
      "id": "73633012-e0a6-414c-9f7a-3f91bc55f627",
      "metadata": {
        "id": "73633012-e0a6-414c-9f7a-3f91bc55f627"
      },
      "outputs": [],
      "source": [
        "def discriminator_loss(real_output, fake_output):\n",
        "    real_loss = cross_entropy(tf.ones_like(real_output), real_output)\n",
        "    fake_loss = cross_entropy(tf.zeros_like(fake_output), fake_output)\n",
        "    total_loss = real_loss + fake_loss\n",
        "\n",
        "    return total_loss"
      ]
    },
    {
      "cell_type": "code",
      "execution_count": 17,
      "id": "d3927fb4-00b7-416b-a350-f3025c0ffaf1",
      "metadata": {
        "id": "d3927fb4-00b7-416b-a350-f3025c0ffaf1"
      },
      "outputs": [],
      "source": [
        "def generator_loss(fake_output):\n",
        "    return cross_entropy(tf.ones_like(fake_output), fake_output)"
      ]
    },
    {
      "cell_type": "code",
      "execution_count": 18,
      "id": "da23a35f-e1af-4c00-af55-fef6c8632a9c",
      "metadata": {
        "id": "da23a35f-e1af-4c00-af55-fef6c8632a9c"
      },
      "outputs": [],
      "source": [
        "generator_optimizer = tf.keras.optimizers.Adam(learning_rate = 1e-4)\n",
        "discriminator_optimizer = tf.keras.optimizers.Adam(learning_rate = 1e-4)"
      ]
    },
    {
      "cell_type": "markdown",
      "id": "ab15f1c0-c3a3-4d2d-ac0a-e83d3f0772cf",
      "metadata": {
        "id": "ab15f1c0-c3a3-4d2d-ac0a-e83d3f0772cf"
      },
      "source": [
        "## checkpoints"
      ]
    },
    {
      "cell_type": "code",
      "execution_count": 19,
      "id": "d7137abd-86b3-4712-a5d5-4b3288f501a1",
      "metadata": {
        "id": "d7137abd-86b3-4712-a5d5-4b3288f501a1"
      },
      "outputs": [],
      "source": [
        "import os\n",
        "checkpoints_dir = \"./training_checkpoints\"\n",
        "checkpoint_prefix = os.path.join(checkpoints_dir, \"ckpt\")"
      ]
    },
    {
      "cell_type": "code",
      "execution_count": 20,
      "id": "99751298-793c-4d81-b6e6-49c641ce6926",
      "metadata": {
        "id": "99751298-793c-4d81-b6e6-49c641ce6926"
      },
      "outputs": [],
      "source": [
        "checkpoint = tf.train.Checkpoint(\n",
        "    generator_optimizer = generator_optimizer,\n",
        "    discriminator_optimizer = discriminator_optimizer,\n",
        "    generator = generator,\n",
        "    discriminator = discriminator\n",
        ")"
      ]
    },
    {
      "cell_type": "code",
      "execution_count": 21,
      "id": "786a6d26-e90a-4205-baad-eec1d944c091",
      "metadata": {
        "id": "786a6d26-e90a-4205-baad-eec1d944c091"
      },
      "outputs": [],
      "source": [
        "EPOCHS = 100\n",
        "noise_dim = 100\n",
        "num_examples_to_generate = 10\n",
        "\n",
        "seed = tf.random.normal([num_examples_to_generate, noise_dim])"
      ]
    },
    {
      "cell_type": "code",
      "execution_count": 22,
      "id": "80e7e47b-48da-4661-802a-4d66ac8256c8",
      "metadata": {
        "id": "80e7e47b-48da-4661-802a-4d66ac8256c8"
      },
      "outputs": [],
      "source": [
        "@tf.function\n",
        "def train_step(images):\n",
        "    noise = tf.random.normal([BATCH_SIZE, noise_dim])\n",
        "\n",
        "    with tf.GradientTape() as gen_tape, tf.GradientTape() as disc_tape:\n",
        "        generated_images = generator(noise, training = True)\n",
        "\n",
        "        real_output = discriminator(images, training = True)\n",
        "        fake_output = discriminator(generated_images, training = True)\n",
        "\n",
        "        gen_loss = generator_loss(fake_output)\n",
        "        disc_loss = discriminator_loss(real_output, fake_output)\n",
        "\n",
        "    grad_of_gen = gen_tape.gradient(gen_loss, generator.trainable_variables)\n",
        "    gen_of_disc = disc_tape.gradient(disc_loss, discriminator.trainable_variables)\n",
        "\n",
        "    generator_optimizer.apply_gradients(zip(grad_of_gen, generator.trainable_variables))\n",
        "    discriminator_optimizer.apply_gradients(zip(gen_of_disc, discriminator.trainable_variables))"
      ]
    },
    {
      "cell_type": "code",
      "execution_count": 23,
      "id": "f51a204a-24b2-4c06-9407-2959e048182c",
      "metadata": {
        "id": "f51a204a-24b2-4c06-9407-2959e048182c"
      },
      "outputs": [],
      "source": [
        "import time\n",
        "def train(dataset, epochs):\n",
        "    for epoch in range(epochs):\n",
        "        start = time.time()\n",
        "\n",
        "        for image_batch in dataset:\n",
        "            train_step(image_batch)\n",
        "\n",
        "        display.clear_output(wait = True)\n",
        "        generate_and_save_images(generator, epoch + 1,\n",
        "                                seed)\n",
        "\n",
        "        if (epoch + 1) % 15 == 0:\n",
        "            checkpoint.save(file_prefix = checkpoint_prefix)\n",
        "\n",
        "        print(f\"Time for epoch {epoch + 1} is {time.time()-start}\")\n",
        "\n",
        "    display.clear_output(wait = True)\n",
        "    generate_and_save_images(generator, epochs, seed)"
      ]
    },
    {
      "cell_type": "code",
      "execution_count": 24,
      "id": "560b81a0-cb60-4157-a7bf-25e5083c04c0",
      "metadata": {
        "id": "560b81a0-cb60-4157-a7bf-25e5083c04c0"
      },
      "outputs": [],
      "source": [
        "def generate_and_save_images(model, epoch, test_input):\n",
        "    predictions = model(test_input, training = False)\n",
        "\n",
        "    fig = plt.figure(figsize = (4, 4))\n",
        "\n",
        "\n",
        "    for i in range(predictions.shape[0]):\n",
        "        plt.subplot(4, 4,  i + 1)\n",
        "        plt.imshow(predictions[i, :, :, 0] * 127.5 + 127.5, cmap = \"gray\")\n",
        "        plt.axis(\"off\")\n",
        "\n",
        "    plt.savefig(f\"image_at_epoch {epoch : 04d}\")\n",
        "    plt.show()"
      ]
    },
    {
      "cell_type": "code",
      "execution_count": 25,
      "id": "5e88d192-cbfa-48ef-b3d2-ce062c951875",
      "metadata": {
        "colab": {
          "base_uri": "https://localhost:8080/",
          "height": 264
        },
        "id": "5e88d192-cbfa-48ef-b3d2-ce062c951875",
        "outputId": "c11a3a06-0bf4-47e2-c070-cc61e61bba06"
      },
      "outputs": [
        {
          "output_type": "display_data",
          "data": {
            "text/plain": [
              "<Figure size 400x400 with 10 Axes>"
            ],
            "image/png": "[encoded data removed]"
          },
          "metadata": {}
        }
      ],
      "source": [
        "train(train_dataset, EPOCHS)"
      ]
    },
    {
      "cell_type": "code",
      "execution_count": 25,
      "id": "d36d1013-f5db-4f77-9fb8-0cac4f9e3d5b",
      "metadata": {
        "id": "d36d1013-f5db-4f77-9fb8-0cac4f9e3d5b"
      },
      "outputs": [],
      "source": []
    }
  ],
  "metadata": {
    "kernelspec": {
      "display_name": "Python 3",
      "name": "python3"
    },
    "language_info": {
      "codemirror_mode": {
        "name": "ipython",
        "version": 3
      },
      "file_extension": ".py",
      "mimetype": "text/x-python",
      "name": "python",
      "nbconvert_exporter": "python",
      "pygments_lexer": "ipython3",
      "version": "3.11.3"
    },
    "colab": {
      "provenance": [],
      "gpuType": "T4",
      "include_colab_link": true
    },
    "accelerator": "GPU"
  },
  "nbformat": 4,
  "nbformat_minor": 5
}